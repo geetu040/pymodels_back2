{
 "cells": [
  {
   "attachments": {},
   "cell_type": "markdown",
   "metadata": {},
   "source": [
    "# **Loading Data**"
   ]
  },
  {
   "cell_type": "code",
   "execution_count": 137,
   "metadata": {},
   "outputs": [],
   "source": [
    "import pandas as pd"
   ]
  },
  {
   "cell_type": "code",
   "execution_count": 138,
   "metadata": {},
   "outputs": [],
   "source": [
    "# df = pd.read_csv(\"./2022 Movies Cleaned.csv\")\n",
    "df = pd.read_excel(\"data.xls\")"
   ]
  },
  {
   "cell_type": "code",
   "execution_count": 139,
   "metadata": {},
   "outputs": [
    {
     "data": {
      "text/html": [
       "<div>\n",
       "<style scoped>\n",
       "    .dataframe tbody tr th:only-of-type {\n",
       "        vertical-align: middle;\n",
       "    }\n",
       "\n",
       "    .dataframe tbody tr th {\n",
       "        vertical-align: top;\n",
       "    }\n",
       "\n",
       "    .dataframe thead th {\n",
       "        text-align: right;\n",
       "    }\n",
       "</style>\n",
       "<table border=\"1\" class=\"dataframe\">\n",
       "  <thead>\n",
       "    <tr style=\"text-align: right;\">\n",
       "      <th></th>\n",
       "      <th>Title</th>\n",
       "      <th>rank</th>\n",
       "      <th>Year</th>\n",
       "      <th>certificate</th>\n",
       "      <th>Time</th>\n",
       "      <th>genre</th>\n",
       "      <th>inlineblock</th>\n",
       "      <th>Score</th>\n",
       "      <th>textmuted</th>\n",
       "      <th>director</th>\n",
       "      <th>actor1</th>\n",
       "      <th>actor2</th>\n",
       "      <th>actor3</th>\n",
       "      <th>actor4</th>\n",
       "    </tr>\n",
       "  </thead>\n",
       "  <tbody>\n",
       "    <tr>\n",
       "      <th>0</th>\n",
       "      <td>Avatar: The Way of Water</td>\n",
       "      <td>1</td>\n",
       "      <td>-2022</td>\n",
       "      <td>PG-13</td>\n",
       "      <td>192 min</td>\n",
       "      <td>\\nAction, Adventure, Fantasy</td>\n",
       "      <td>7.8</td>\n",
       "      <td>\\n67        \\n        Metascore\\n</td>\n",
       "      <td>\\nJake Sully lives with his newfound family fo...</td>\n",
       "      <td>James Cameron</td>\n",
       "      <td>Sam Worthington</td>\n",
       "      <td>Zoe Saldana</td>\n",
       "      <td>Sigourney Weaver</td>\n",
       "      <td>Stephen Lang</td>\n",
       "    </tr>\n",
       "    <tr>\n",
       "      <th>1</th>\n",
       "      <td>The Menu</td>\n",
       "      <td>2</td>\n",
       "      <td>-2022</td>\n",
       "      <td>R</td>\n",
       "      <td>107 min</td>\n",
       "      <td>\\nHorror, Thriller</td>\n",
       "      <td>7.2</td>\n",
       "      <td>\\n71        \\n        Metascore\\n</td>\n",
       "      <td>\\nA young couple travels to a remote island to...</td>\n",
       "      <td>Mark Mylod</td>\n",
       "      <td>Ralph Fiennes</td>\n",
       "      <td>Anya Taylor-Joy</td>\n",
       "      <td>Nicholas Hoult</td>\n",
       "      <td>Hong Chau</td>\n",
       "    </tr>\n",
       "    <tr>\n",
       "      <th>2</th>\n",
       "      <td>Babylon</td>\n",
       "      <td>3</td>\n",
       "      <td>(I) (2022)</td>\n",
       "      <td>R</td>\n",
       "      <td>189 min</td>\n",
       "      <td>\\nComedy, Drama, History</td>\n",
       "      <td>7.5</td>\n",
       "      <td>\\n60        \\n        Metascore\\n</td>\n",
       "      <td>\\nA tale of outsized ambition and outrageous e...</td>\n",
       "      <td>Damien Chazelle</td>\n",
       "      <td>Brad Pitt</td>\n",
       "      <td>Margot Robbie</td>\n",
       "      <td>Jean Smart</td>\n",
       "      <td>Olivia Wilde</td>\n",
       "    </tr>\n",
       "    <tr>\n",
       "      <th>3</th>\n",
       "      <td>Everything Everywhere All at Once</td>\n",
       "      <td>4</td>\n",
       "      <td>-2022</td>\n",
       "      <td>R</td>\n",
       "      <td>139 min</td>\n",
       "      <td>\\nAction, Adventure, Comedy</td>\n",
       "      <td>8</td>\n",
       "      <td>\\n81        \\n        Metascore\\n</td>\n",
       "      <td>\\nA middle-aged Chinese immigrant is swept up ...</td>\n",
       "      <td>Dan Kwan</td>\n",
       "      <td>Daniel Scheinert</td>\n",
       "      <td>Michelle Yeoh</td>\n",
       "      <td>Stephanie Hsu</td>\n",
       "      <td>Jamie Lee Curtis</td>\n",
       "    </tr>\n",
       "    <tr>\n",
       "      <th>4</th>\n",
       "      <td>M3GAN</td>\n",
       "      <td>5</td>\n",
       "      <td>-2022</td>\n",
       "      <td>PG-13</td>\n",
       "      <td>102 min</td>\n",
       "      <td>\\nHorror, Sci-Fi, Thriller</td>\n",
       "      <td>6.4</td>\n",
       "      <td>\\n72        \\n        Metascore\\n</td>\n",
       "      <td>\\nA robotics engineer at a toy company builds ...</td>\n",
       "      <td>Gerard Johnstone</td>\n",
       "      <td>Allison Williams</td>\n",
       "      <td>Violet McGraw</td>\n",
       "      <td>Ronny Chieng</td>\n",
       "      <td>Amie Donald</td>\n",
       "    </tr>\n",
       "  </tbody>\n",
       "</table>\n",
       "</div>"
      ],
      "text/plain": [
       "                               Title rank        Year certificate     Time  \\\n",
       "0           Avatar: The Way of Water    1       -2022       PG-13  192 min   \n",
       "1                           The Menu    2       -2022           R  107 min   \n",
       "2                            Babylon    3  (I) (2022)           R  189 min   \n",
       "3  Everything Everywhere All at Once    4       -2022           R  139 min   \n",
       "4                              M3GAN    5       -2022       PG-13  102 min   \n",
       "\n",
       "                                      genre inlineblock  \\\n",
       "0  \\nAction, Adventure, Fantasy                     7.8   \n",
       "1            \\nHorror, Thriller                     7.2   \n",
       "2      \\nComedy, Drama, History                     7.5   \n",
       "3   \\nAction, Adventure, Comedy                       8   \n",
       "4    \\nHorror, Sci-Fi, Thriller                     6.4   \n",
       "\n",
       "                                           Score  \\\n",
       "0  \\n67        \\n        Metascore\\n               \n",
       "1  \\n71        \\n        Metascore\\n               \n",
       "2  \\n60        \\n        Metascore\\n               \n",
       "3  \\n81        \\n        Metascore\\n               \n",
       "4  \\n72        \\n        Metascore\\n               \n",
       "\n",
       "                                           textmuted          director  \\\n",
       "0  \\nJake Sully lives with his newfound family fo...     James Cameron   \n",
       "1  \\nA young couple travels to a remote island to...        Mark Mylod   \n",
       "2  \\nA tale of outsized ambition and outrageous e...   Damien Chazelle   \n",
       "3  \\nA middle-aged Chinese immigrant is swept up ...          Dan Kwan   \n",
       "4  \\nA robotics engineer at a toy company builds ...  Gerard Johnstone   \n",
       "\n",
       "             actor1           actor2            actor3            actor4  \n",
       "0   Sam Worthington      Zoe Saldana  Sigourney Weaver      Stephen Lang  \n",
       "1     Ralph Fiennes  Anya Taylor-Joy    Nicholas Hoult         Hong Chau  \n",
       "2         Brad Pitt    Margot Robbie        Jean Smart      Olivia Wilde  \n",
       "3  Daniel Scheinert    Michelle Yeoh     Stephanie Hsu  Jamie Lee Curtis  \n",
       "4  Allison Williams    Violet McGraw      Ronny Chieng       Amie Donald  "
      ]
     },
     "execution_count": 139,
     "metadata": {},
     "output_type": "execute_result"
    }
   ],
   "source": [
    "df.head()"
   ]
  },
  {
   "attachments": {},
   "cell_type": "markdown",
   "metadata": {},
   "source": [
    "# **Preprocessing**"
   ]
  },
  {
   "attachments": {},
   "cell_type": "markdown",
   "metadata": {},
   "source": [
    "### Basic Cleaning"
   ]
  },
  {
   "cell_type": "code",
   "execution_count": 140,
   "metadata": {},
   "outputs": [],
   "source": [
    "# Removing Duplicates\n",
    "df.drop_duplicates(inplace=True)"
   ]
  },
  {
   "cell_type": "code",
   "execution_count": 141,
   "metadata": {},
   "outputs": [
    {
     "name": "stdout",
     "output_type": "stream",
     "text": [
      "Title             0\n",
      "rank             16\n",
      "Year             39\n",
      "certificate    8995\n",
      "Time           2903\n",
      "genre           391\n",
      "inlineblock    3733\n",
      "Score          9556\n",
      "textmuted        35\n",
      "director        127\n",
      "actor1          333\n",
      "actor2          526\n",
      "actor3          822\n",
      "actor4         1266\n",
      "dtype: int64\n"
     ]
    }
   ],
   "source": [
    "# filling NULL values\n",
    "print(df.isna().sum())\n",
    "df.fillna(\"\", inplace=True)"
   ]
  },
  {
   "cell_type": "code",
   "execution_count": 142,
   "metadata": {},
   "outputs": [],
   "source": [
    "df = df.astype(str)"
   ]
  },
  {
   "attachments": {},
   "cell_type": "markdown",
   "metadata": {},
   "source": [
    "### Genres"
   ]
  },
  {
   "cell_type": "code",
   "execution_count": 143,
   "metadata": {},
   "outputs": [],
   "source": [
    "unique_genres = [\n",
    "    \"Action\", \"Adventure\", \"Fantasy\", \"Horror\", \"Thriller\",\n",
    "    \"Comedy\", \"Drama\", \"History\", \"Sci-Fi\", \"Animation\",\n",
    "    \"Crime\", \"Mystery\", \"Music\", \"Romance\", \"War\", \"Biography\",\n",
    "    \"Family\", \"Sport\", \"Musical\", \"Western\", \"Reality-TV\", \"News\",\n",
    "    \"Game-Show\", \"Talk-Show\"\n",
    "]"
   ]
  },
  {
   "cell_type": "code",
   "execution_count": 144,
   "metadata": {},
   "outputs": [],
   "source": [
    "def genres_clean(row):\n",
    "    return \" \".join([genre.strip() for genre in row.split(\",\") if genre.strip() in unique_genres]).lower().replace(\"-\", \"\")"
   ]
  },
  {
   "cell_type": "code",
   "execution_count": 145,
   "metadata": {},
   "outputs": [
    {
     "data": {
      "text/plain": [
       "'action crime drama'"
      ]
     },
     "execution_count": 145,
     "metadata": {},
     "output_type": "execute_result"
    }
   ],
   "source": [
    "genres_clean(df.genre[30])"
   ]
  },
  {
   "cell_type": "code",
   "execution_count": 146,
   "metadata": {},
   "outputs": [
    {
     "data": {
      "text/plain": [
       "Title                                         #69 Samskar Colony\n",
       "rank           https://www.imdb.com/title/tt18673736/?ref_=ad...\n",
       "Year           https://m.media-amazon.com/images/S/sash/4Fyxw...\n",
       "certificate    https://www.imdb.com/title/tt18673736/?ref_=ad...\n",
       "Time                                                        1715\n",
       "genre                                                      -2022\n",
       "inlineblock                                                     \n",
       "Score                                                    126 min\n",
       "textmuted                               \\nRomance            \"\"\"\n",
       "director       \\nKoushik, a teenage boy, moves to the city wi...\n",
       "actor1         \\n    Director:\\nSuneel Kumar Reddy\\n         ...\n",
       "actor2         https://www.imdb.com/name/nm6190049/?ref_=adv_...\n",
       "actor3                                        Suneel Kumar Reddy\n",
       "actor4         https://www.imdb.com/name/nm2496992/?ref_=adv_...\n",
       "Name: 1714, dtype: object"
      ]
     },
     "execution_count": 146,
     "metadata": {},
     "output_type": "execute_result"
    }
   ],
   "source": [
    "df.iloc[1714]"
   ]
  },
  {
   "cell_type": "code",
   "execution_count": 147,
   "metadata": {},
   "outputs": [],
   "source": [
    "js = []\n",
    "j = 0\n",
    "for i in df.genre:\n",
    "    # print(j)\n",
    "    try:\n",
    "        genres_clean(i)\n",
    "    except:\n",
    "        js.append(j)\n",
    "    j += 1"
   ]
  },
  {
   "cell_type": "code",
   "execution_count": 148,
   "metadata": {},
   "outputs": [
    {
     "data": {
      "text/html": [
       "<div>\n",
       "<style scoped>\n",
       "    .dataframe tbody tr th:only-of-type {\n",
       "        vertical-align: middle;\n",
       "    }\n",
       "\n",
       "    .dataframe tbody tr th {\n",
       "        vertical-align: top;\n",
       "    }\n",
       "\n",
       "    .dataframe thead th {\n",
       "        text-align: right;\n",
       "    }\n",
       "</style>\n",
       "<table border=\"1\" class=\"dataframe\">\n",
       "  <thead>\n",
       "    <tr style=\"text-align: right;\">\n",
       "      <th></th>\n",
       "      <th>Title</th>\n",
       "      <th>rank</th>\n",
       "      <th>Year</th>\n",
       "      <th>certificate</th>\n",
       "      <th>Time</th>\n",
       "      <th>genre</th>\n",
       "      <th>inlineblock</th>\n",
       "      <th>Score</th>\n",
       "      <th>textmuted</th>\n",
       "      <th>director</th>\n",
       "      <th>actor1</th>\n",
       "      <th>actor2</th>\n",
       "      <th>actor3</th>\n",
       "      <th>actor4</th>\n",
       "    </tr>\n",
       "  </thead>\n",
       "  <tbody>\n",
       "  </tbody>\n",
       "</table>\n",
       "</div>"
      ],
      "text/plain": [
       "Empty DataFrame\n",
       "Columns: [Title, rank, Year, certificate, Time, genre, inlineblock, Score, textmuted, director, actor1, actor2, actor3, actor4]\n",
       "Index: []"
      ]
     },
     "execution_count": 148,
     "metadata": {},
     "output_type": "execute_result"
    }
   ],
   "source": [
    "df.iloc[js]"
   ]
  },
  {
   "cell_type": "code",
   "execution_count": 149,
   "metadata": {},
   "outputs": [],
   "source": [
    "df.genre = df.genre.apply(genres_clean)"
   ]
  },
  {
   "cell_type": "code",
   "execution_count": 150,
   "metadata": {},
   "outputs": [
    {
     "data": {
      "text/html": [
       "<div>\n",
       "<style scoped>\n",
       "    .dataframe tbody tr th:only-of-type {\n",
       "        vertical-align: middle;\n",
       "    }\n",
       "\n",
       "    .dataframe tbody tr th {\n",
       "        vertical-align: top;\n",
       "    }\n",
       "\n",
       "    .dataframe thead th {\n",
       "        text-align: right;\n",
       "    }\n",
       "</style>\n",
       "<table border=\"1\" class=\"dataframe\">\n",
       "  <thead>\n",
       "    <tr style=\"text-align: right;\">\n",
       "      <th></th>\n",
       "      <th>Title</th>\n",
       "      <th>rank</th>\n",
       "      <th>Year</th>\n",
       "      <th>certificate</th>\n",
       "      <th>Time</th>\n",
       "      <th>genre</th>\n",
       "      <th>inlineblock</th>\n",
       "      <th>Score</th>\n",
       "      <th>textmuted</th>\n",
       "      <th>director</th>\n",
       "      <th>actor1</th>\n",
       "      <th>actor2</th>\n",
       "      <th>actor3</th>\n",
       "      <th>actor4</th>\n",
       "    </tr>\n",
       "  </thead>\n",
       "  <tbody>\n",
       "    <tr>\n",
       "      <th>0</th>\n",
       "      <td>Avatar: The Way of Water</td>\n",
       "      <td>1</td>\n",
       "      <td>-2022</td>\n",
       "      <td>PG-13</td>\n",
       "      <td>192 min</td>\n",
       "      <td>action adventure fantasy</td>\n",
       "      <td>7.8</td>\n",
       "      <td>\\n67        \\n        Metascore\\n</td>\n",
       "      <td>\\nJake Sully lives with his newfound family fo...</td>\n",
       "      <td>James Cameron</td>\n",
       "      <td>Sam Worthington</td>\n",
       "      <td>Zoe Saldana</td>\n",
       "      <td>Sigourney Weaver</td>\n",
       "      <td>Stephen Lang</td>\n",
       "    </tr>\n",
       "    <tr>\n",
       "      <th>1</th>\n",
       "      <td>The Menu</td>\n",
       "      <td>2</td>\n",
       "      <td>-2022</td>\n",
       "      <td>R</td>\n",
       "      <td>107 min</td>\n",
       "      <td>horror thriller</td>\n",
       "      <td>7.2</td>\n",
       "      <td>\\n71        \\n        Metascore\\n</td>\n",
       "      <td>\\nA young couple travels to a remote island to...</td>\n",
       "      <td>Mark Mylod</td>\n",
       "      <td>Ralph Fiennes</td>\n",
       "      <td>Anya Taylor-Joy</td>\n",
       "      <td>Nicholas Hoult</td>\n",
       "      <td>Hong Chau</td>\n",
       "    </tr>\n",
       "    <tr>\n",
       "      <th>2</th>\n",
       "      <td>Babylon</td>\n",
       "      <td>3</td>\n",
       "      <td>(I) (2022)</td>\n",
       "      <td>R</td>\n",
       "      <td>189 min</td>\n",
       "      <td>comedy drama history</td>\n",
       "      <td>7.5</td>\n",
       "      <td>\\n60        \\n        Metascore\\n</td>\n",
       "      <td>\\nA tale of outsized ambition and outrageous e...</td>\n",
       "      <td>Damien Chazelle</td>\n",
       "      <td>Brad Pitt</td>\n",
       "      <td>Margot Robbie</td>\n",
       "      <td>Jean Smart</td>\n",
       "      <td>Olivia Wilde</td>\n",
       "    </tr>\n",
       "    <tr>\n",
       "      <th>3</th>\n",
       "      <td>Everything Everywhere All at Once</td>\n",
       "      <td>4</td>\n",
       "      <td>-2022</td>\n",
       "      <td>R</td>\n",
       "      <td>139 min</td>\n",
       "      <td>action adventure comedy</td>\n",
       "      <td>8</td>\n",
       "      <td>\\n81        \\n        Metascore\\n</td>\n",
       "      <td>\\nA middle-aged Chinese immigrant is swept up ...</td>\n",
       "      <td>Dan Kwan</td>\n",
       "      <td>Daniel Scheinert</td>\n",
       "      <td>Michelle Yeoh</td>\n",
       "      <td>Stephanie Hsu</td>\n",
       "      <td>Jamie Lee Curtis</td>\n",
       "    </tr>\n",
       "    <tr>\n",
       "      <th>4</th>\n",
       "      <td>M3GAN</td>\n",
       "      <td>5</td>\n",
       "      <td>-2022</td>\n",
       "      <td>PG-13</td>\n",
       "      <td>102 min</td>\n",
       "      <td>horror scifi thriller</td>\n",
       "      <td>6.4</td>\n",
       "      <td>\\n72        \\n        Metascore\\n</td>\n",
       "      <td>\\nA robotics engineer at a toy company builds ...</td>\n",
       "      <td>Gerard Johnstone</td>\n",
       "      <td>Allison Williams</td>\n",
       "      <td>Violet McGraw</td>\n",
       "      <td>Ronny Chieng</td>\n",
       "      <td>Amie Donald</td>\n",
       "    </tr>\n",
       "  </tbody>\n",
       "</table>\n",
       "</div>"
      ],
      "text/plain": [
       "                               Title rank        Year certificate     Time  \\\n",
       "0           Avatar: The Way of Water    1       -2022       PG-13  192 min   \n",
       "1                           The Menu    2       -2022           R  107 min   \n",
       "2                            Babylon    3  (I) (2022)           R  189 min   \n",
       "3  Everything Everywhere All at Once    4       -2022           R  139 min   \n",
       "4                              M3GAN    5       -2022       PG-13  102 min   \n",
       "\n",
       "                      genre inlineblock  \\\n",
       "0  action adventure fantasy         7.8   \n",
       "1           horror thriller         7.2   \n",
       "2      comedy drama history         7.5   \n",
       "3   action adventure comedy           8   \n",
       "4     horror scifi thriller         6.4   \n",
       "\n",
       "                                           Score  \\\n",
       "0  \\n67        \\n        Metascore\\n               \n",
       "1  \\n71        \\n        Metascore\\n               \n",
       "2  \\n60        \\n        Metascore\\n               \n",
       "3  \\n81        \\n        Metascore\\n               \n",
       "4  \\n72        \\n        Metascore\\n               \n",
       "\n",
       "                                           textmuted          director  \\\n",
       "0  \\nJake Sully lives with his newfound family fo...     James Cameron   \n",
       "1  \\nA young couple travels to a remote island to...        Mark Mylod   \n",
       "2  \\nA tale of outsized ambition and outrageous e...   Damien Chazelle   \n",
       "3  \\nA middle-aged Chinese immigrant is swept up ...          Dan Kwan   \n",
       "4  \\nA robotics engineer at a toy company builds ...  Gerard Johnstone   \n",
       "\n",
       "             actor1           actor2            actor3            actor4  \n",
       "0   Sam Worthington      Zoe Saldana  Sigourney Weaver      Stephen Lang  \n",
       "1     Ralph Fiennes  Anya Taylor-Joy    Nicholas Hoult         Hong Chau  \n",
       "2         Brad Pitt    Margot Robbie        Jean Smart      Olivia Wilde  \n",
       "3  Daniel Scheinert    Michelle Yeoh     Stephanie Hsu  Jamie Lee Curtis  \n",
       "4  Allison Williams    Violet McGraw      Ronny Chieng       Amie Donald  "
      ]
     },
     "execution_count": 150,
     "metadata": {},
     "output_type": "execute_result"
    }
   ],
   "source": [
    "df.head()"
   ]
  },
  {
   "attachments": {},
   "cell_type": "markdown",
   "metadata": {},
   "source": [
    "### Cast"
   ]
  },
  {
   "cell_type": "code",
   "execution_count": 151,
   "metadata": {},
   "outputs": [],
   "source": [
    "def clean_cast(row):\n",
    "    alpha = \"abcdefghijklmnopqrstuvwxyz\"\n",
    "    new_row = \"\"\n",
    "    for char in row.lower():\n",
    "        if char in alpha:\n",
    "            new_row += char\n",
    "    return new_row\n",
    "\n",
    "df.director = df.director.apply(clean_cast)\n",
    "df.actor1 = df.actor1.apply(clean_cast)\n",
    "df.actor2 = df.actor2.apply(clean_cast)\n",
    "df.actor3 = df.actor3.apply(clean_cast)\n",
    "df.actor4 = df.actor4.apply(clean_cast)"
   ]
  },
  {
   "cell_type": "code",
   "execution_count": 152,
   "metadata": {},
   "outputs": [],
   "source": [
    "cast = df.director + \" \" + df.actor1 + \" \" + df.actor2 + \" \" + df.actor3 + \" \" + df.actor4"
   ]
  },
  {
   "cell_type": "code",
   "execution_count": 153,
   "metadata": {},
   "outputs": [],
   "source": [
    "df['cast'] = cast"
   ]
  },
  {
   "cell_type": "code",
   "execution_count": 154,
   "metadata": {},
   "outputs": [
    {
     "data": {
      "text/html": [
       "<div>\n",
       "<style scoped>\n",
       "    .dataframe tbody tr th:only-of-type {\n",
       "        vertical-align: middle;\n",
       "    }\n",
       "\n",
       "    .dataframe tbody tr th {\n",
       "        vertical-align: top;\n",
       "    }\n",
       "\n",
       "    .dataframe thead th {\n",
       "        text-align: right;\n",
       "    }\n",
       "</style>\n",
       "<table border=\"1\" class=\"dataframe\">\n",
       "  <thead>\n",
       "    <tr style=\"text-align: right;\">\n",
       "      <th></th>\n",
       "      <th>Title</th>\n",
       "      <th>rank</th>\n",
       "      <th>Year</th>\n",
       "      <th>certificate</th>\n",
       "      <th>Time</th>\n",
       "      <th>genre</th>\n",
       "      <th>inlineblock</th>\n",
       "      <th>Score</th>\n",
       "      <th>textmuted</th>\n",
       "      <th>director</th>\n",
       "      <th>actor1</th>\n",
       "      <th>actor2</th>\n",
       "      <th>actor3</th>\n",
       "      <th>actor4</th>\n",
       "      <th>cast</th>\n",
       "    </tr>\n",
       "  </thead>\n",
       "  <tbody>\n",
       "    <tr>\n",
       "      <th>0</th>\n",
       "      <td>Avatar: The Way of Water</td>\n",
       "      <td>1</td>\n",
       "      <td>-2022</td>\n",
       "      <td>PG-13</td>\n",
       "      <td>192 min</td>\n",
       "      <td>action adventure fantasy</td>\n",
       "      <td>7.8</td>\n",
       "      <td>\\n67        \\n        Metascore\\n</td>\n",
       "      <td>\\nJake Sully lives with his newfound family fo...</td>\n",
       "      <td>jamescameron</td>\n",
       "      <td>samworthington</td>\n",
       "      <td>zoesaldana</td>\n",
       "      <td>sigourneyweaver</td>\n",
       "      <td>stephenlang</td>\n",
       "      <td>jamescameron samworthington zoesaldana sigourn...</td>\n",
       "    </tr>\n",
       "    <tr>\n",
       "      <th>1</th>\n",
       "      <td>The Menu</td>\n",
       "      <td>2</td>\n",
       "      <td>-2022</td>\n",
       "      <td>R</td>\n",
       "      <td>107 min</td>\n",
       "      <td>horror thriller</td>\n",
       "      <td>7.2</td>\n",
       "      <td>\\n71        \\n        Metascore\\n</td>\n",
       "      <td>\\nA young couple travels to a remote island to...</td>\n",
       "      <td>markmylod</td>\n",
       "      <td>ralphfiennes</td>\n",
       "      <td>anyataylorjoy</td>\n",
       "      <td>nicholashoult</td>\n",
       "      <td>hongchau</td>\n",
       "      <td>markmylod ralphfiennes anyataylorjoy nicholash...</td>\n",
       "    </tr>\n",
       "    <tr>\n",
       "      <th>2</th>\n",
       "      <td>Babylon</td>\n",
       "      <td>3</td>\n",
       "      <td>(I) (2022)</td>\n",
       "      <td>R</td>\n",
       "      <td>189 min</td>\n",
       "      <td>comedy drama history</td>\n",
       "      <td>7.5</td>\n",
       "      <td>\\n60        \\n        Metascore\\n</td>\n",
       "      <td>\\nA tale of outsized ambition and outrageous e...</td>\n",
       "      <td>damienchazelle</td>\n",
       "      <td>bradpitt</td>\n",
       "      <td>margotrobbie</td>\n",
       "      <td>jeansmart</td>\n",
       "      <td>oliviawilde</td>\n",
       "      <td>damienchazelle bradpitt margotrobbie jeansmart...</td>\n",
       "    </tr>\n",
       "    <tr>\n",
       "      <th>3</th>\n",
       "      <td>Everything Everywhere All at Once</td>\n",
       "      <td>4</td>\n",
       "      <td>-2022</td>\n",
       "      <td>R</td>\n",
       "      <td>139 min</td>\n",
       "      <td>action adventure comedy</td>\n",
       "      <td>8</td>\n",
       "      <td>\\n81        \\n        Metascore\\n</td>\n",
       "      <td>\\nA middle-aged Chinese immigrant is swept up ...</td>\n",
       "      <td>dankwan</td>\n",
       "      <td>danielscheinert</td>\n",
       "      <td>michelleyeoh</td>\n",
       "      <td>stephaniehsu</td>\n",
       "      <td>jamieleecurtis</td>\n",
       "      <td>dankwan danielscheinert michelleyeoh stephanie...</td>\n",
       "    </tr>\n",
       "    <tr>\n",
       "      <th>4</th>\n",
       "      <td>M3GAN</td>\n",
       "      <td>5</td>\n",
       "      <td>-2022</td>\n",
       "      <td>PG-13</td>\n",
       "      <td>102 min</td>\n",
       "      <td>horror scifi thriller</td>\n",
       "      <td>6.4</td>\n",
       "      <td>\\n72        \\n        Metascore\\n</td>\n",
       "      <td>\\nA robotics engineer at a toy company builds ...</td>\n",
       "      <td>gerardjohnstone</td>\n",
       "      <td>allisonwilliams</td>\n",
       "      <td>violetmcgraw</td>\n",
       "      <td>ronnychieng</td>\n",
       "      <td>amiedonald</td>\n",
       "      <td>gerardjohnstone allisonwilliams violetmcgraw r...</td>\n",
       "    </tr>\n",
       "  </tbody>\n",
       "</table>\n",
       "</div>"
      ],
      "text/plain": [
       "                               Title rank        Year certificate     Time  \\\n",
       "0           Avatar: The Way of Water    1       -2022       PG-13  192 min   \n",
       "1                           The Menu    2       -2022           R  107 min   \n",
       "2                            Babylon    3  (I) (2022)           R  189 min   \n",
       "3  Everything Everywhere All at Once    4       -2022           R  139 min   \n",
       "4                              M3GAN    5       -2022       PG-13  102 min   \n",
       "\n",
       "                      genre inlineblock  \\\n",
       "0  action adventure fantasy         7.8   \n",
       "1           horror thriller         7.2   \n",
       "2      comedy drama history         7.5   \n",
       "3   action adventure comedy           8   \n",
       "4     horror scifi thriller         6.4   \n",
       "\n",
       "                                           Score  \\\n",
       "0  \\n67        \\n        Metascore\\n               \n",
       "1  \\n71        \\n        Metascore\\n               \n",
       "2  \\n60        \\n        Metascore\\n               \n",
       "3  \\n81        \\n        Metascore\\n               \n",
       "4  \\n72        \\n        Metascore\\n               \n",
       "\n",
       "                                           textmuted         director  \\\n",
       "0  \\nJake Sully lives with his newfound family fo...     jamescameron   \n",
       "1  \\nA young couple travels to a remote island to...        markmylod   \n",
       "2  \\nA tale of outsized ambition and outrageous e...   damienchazelle   \n",
       "3  \\nA middle-aged Chinese immigrant is swept up ...          dankwan   \n",
       "4  \\nA robotics engineer at a toy company builds ...  gerardjohnstone   \n",
       "\n",
       "            actor1         actor2           actor3          actor4  \\\n",
       "0   samworthington     zoesaldana  sigourneyweaver     stephenlang   \n",
       "1     ralphfiennes  anyataylorjoy    nicholashoult        hongchau   \n",
       "2         bradpitt   margotrobbie        jeansmart     oliviawilde   \n",
       "3  danielscheinert   michelleyeoh     stephaniehsu  jamieleecurtis   \n",
       "4  allisonwilliams   violetmcgraw      ronnychieng      amiedonald   \n",
       "\n",
       "                                                cast  \n",
       "0  jamescameron samworthington zoesaldana sigourn...  \n",
       "1  markmylod ralphfiennes anyataylorjoy nicholash...  \n",
       "2  damienchazelle bradpitt margotrobbie jeansmart...  \n",
       "3  dankwan danielscheinert michelleyeoh stephanie...  \n",
       "4  gerardjohnstone allisonwilliams violetmcgraw r...  "
      ]
     },
     "execution_count": 154,
     "metadata": {},
     "output_type": "execute_result"
    }
   ],
   "source": [
    "df.head()"
   ]
  },
  {
   "attachments": {},
   "cell_type": "markdown",
   "metadata": {},
   "source": [
    "### Context"
   ]
  },
  {
   "cell_type": "code",
   "execution_count": 155,
   "metadata": {},
   "outputs": [
    {
     "data": {
      "text/plain": [
       "0        \\nJake Sully lives with his newfound family fo...\n",
       "1        \\nA young couple travels to a remote island to...\n",
       "2        \\nA tale of outsized ambition and outrageous e...\n",
       "3        \\nA middle-aged Chinese immigrant is swept up ...\n",
       "4        \\nA robotics engineer at a toy company builds ...\n",
       "                               ...                        \n",
       "10041    \\nDon't miss any of the action, strategy, and ...\n",
       "10042                               \\n        Add a Plot\\n\n",
       "10043                               \\n        Add a Plot\\n\n",
       "10044    \\nDeep in the work of resolving the phobias an...\n",
       "10045                               \\n        Add a Plot\\n\n",
       "Name: textmuted, Length: 10033, dtype: object"
      ]
     },
     "execution_count": 155,
     "metadata": {},
     "output_type": "execute_result"
    }
   ],
   "source": [
    "df.textmuted"
   ]
  },
  {
   "cell_type": "code",
   "execution_count": 156,
   "metadata": {},
   "outputs": [],
   "source": [
    "import re\n",
    "from textblob import TextBlob\n",
    "from nltk.corpus import stopwords\n",
    "import string\n",
    "\n",
    "def clean_context(row, spell, stopword):\n",
    "\talpha = \"abcdefghijklmnopqrstuvwxyz\"\n",
    "\n",
    "\t# lowercasing\n",
    "\trow = row.lower()\n",
    "\n",
    "\t# removing HTML tags\n",
    "\tpattern = re.compile('<.*?>')\n",
    "\trow =  pattern.sub(r'', row)\n",
    "\n",
    "\t# Removing URLS\n",
    "\tpattern = re.compile(r'https?://\\S+|www\\.\\S+')\n",
    "\trow = pattern.sub(r'', row)\n",
    "\n",
    "\t# Remove Punctuations\n",
    "\trow = row.translate(str.maketrans(\"\", \"\", string.punctuation))\n",
    "\n",
    "\t# Spell Correction\n",
    "\tif spell:\n",
    "\t\ttextBlb = TextBlob(row)\n",
    "\t\trow = textBlb.correct().string\n",
    "\n",
    "\tnew_words = []\n",
    "\tfor word in row.lower().split():\n",
    "\t\tnew_word = \"\"\n",
    "\t\tfor char in word:\n",
    "\t\t\tif char in alpha:\n",
    "\t\t\t\tnew_word += char\n",
    "\t\t\n",
    "\t\tif not stopword or new_word not in stopwords.words(\"english\"):\n",
    "\t\t\tnew_words.append(new_word)\n",
    "\treturn \" \".join(new_words)\n",
    "\n",
    "\n",
    "import json\n",
    "\n",
    "# from tqdm import tqdm\n",
    "# context = []\n",
    "# for row in tqdm(df.textmuted):\n",
    "# \tcontext.append(clean_context(row, spell=False, stopword=True))\n",
    "# with open(\"context.json\", 'w') as f:\n",
    "#     json.dump(context, f)\n",
    "\n",
    "with open(\"context.json\", 'rb') as f:\n",
    "\tcontext = json.load(f)"
   ]
  },
  {
   "cell_type": "code",
   "execution_count": 157,
   "metadata": {},
   "outputs": [],
   "source": [
    "df['context'] = context"
   ]
  },
  {
   "attachments": {},
   "cell_type": "markdown",
   "metadata": {},
   "source": [
    "### Combining Columns"
   ]
  },
  {
   "cell_type": "code",
   "execution_count": 158,
   "metadata": {},
   "outputs": [
    {
     "data": {
      "text/html": [
       "<div>\n",
       "<style scoped>\n",
       "    .dataframe tbody tr th:only-of-type {\n",
       "        vertical-align: middle;\n",
       "    }\n",
       "\n",
       "    .dataframe tbody tr th {\n",
       "        vertical-align: top;\n",
       "    }\n",
       "\n",
       "    .dataframe thead th {\n",
       "        text-align: right;\n",
       "    }\n",
       "</style>\n",
       "<table border=\"1\" class=\"dataframe\">\n",
       "  <thead>\n",
       "    <tr style=\"text-align: right;\">\n",
       "      <th></th>\n",
       "      <th>Title</th>\n",
       "      <th>rank</th>\n",
       "      <th>Year</th>\n",
       "      <th>certificate</th>\n",
       "      <th>Time</th>\n",
       "      <th>genre</th>\n",
       "      <th>inlineblock</th>\n",
       "      <th>Score</th>\n",
       "      <th>textmuted</th>\n",
       "      <th>director</th>\n",
       "      <th>actor1</th>\n",
       "      <th>actor2</th>\n",
       "      <th>actor3</th>\n",
       "      <th>actor4</th>\n",
       "      <th>cast</th>\n",
       "      <th>context</th>\n",
       "    </tr>\n",
       "  </thead>\n",
       "  <tbody>\n",
       "    <tr>\n",
       "      <th>0</th>\n",
       "      <td>Avatar: The Way of Water</td>\n",
       "      <td>1</td>\n",
       "      <td>-2022</td>\n",
       "      <td>PG-13</td>\n",
       "      <td>192 min</td>\n",
       "      <td>action adventure fantasy</td>\n",
       "      <td>7.8</td>\n",
       "      <td>\\n67        \\n        Metascore\\n</td>\n",
       "      <td>\\nJake Sully lives with his newfound family fo...</td>\n",
       "      <td>jamescameron</td>\n",
       "      <td>samworthington</td>\n",
       "      <td>zoesaldana</td>\n",
       "      <td>sigourneyweaver</td>\n",
       "      <td>stephenlang</td>\n",
       "      <td>jamescameron samworthington zoesaldana sigourn...</td>\n",
       "      <td>jake sully lives newfound family formed extras...</td>\n",
       "    </tr>\n",
       "    <tr>\n",
       "      <th>1</th>\n",
       "      <td>The Menu</td>\n",
       "      <td>2</td>\n",
       "      <td>-2022</td>\n",
       "      <td>R</td>\n",
       "      <td>107 min</td>\n",
       "      <td>horror thriller</td>\n",
       "      <td>7.2</td>\n",
       "      <td>\\n71        \\n        Metascore\\n</td>\n",
       "      <td>\\nA young couple travels to a remote island to...</td>\n",
       "      <td>markmylod</td>\n",
       "      <td>ralphfiennes</td>\n",
       "      <td>anyataylorjoy</td>\n",
       "      <td>nicholashoult</td>\n",
       "      <td>hongchau</td>\n",
       "      <td>markmylod ralphfiennes anyataylorjoy nicholash...</td>\n",
       "      <td>young couple travels remote island eat exclusi...</td>\n",
       "    </tr>\n",
       "    <tr>\n",
       "      <th>2</th>\n",
       "      <td>Babylon</td>\n",
       "      <td>3</td>\n",
       "      <td>(I) (2022)</td>\n",
       "      <td>R</td>\n",
       "      <td>189 min</td>\n",
       "      <td>comedy drama history</td>\n",
       "      <td>7.5</td>\n",
       "      <td>\\n60        \\n        Metascore\\n</td>\n",
       "      <td>\\nA tale of outsized ambition and outrageous e...</td>\n",
       "      <td>damienchazelle</td>\n",
       "      <td>bradpitt</td>\n",
       "      <td>margotrobbie</td>\n",
       "      <td>jeansmart</td>\n",
       "      <td>oliviawilde</td>\n",
       "      <td>damienchazelle bradpitt margotrobbie jeansmart...</td>\n",
       "      <td>tale outsized ambition outrageous excess trace...</td>\n",
       "    </tr>\n",
       "    <tr>\n",
       "      <th>3</th>\n",
       "      <td>Everything Everywhere All at Once</td>\n",
       "      <td>4</td>\n",
       "      <td>-2022</td>\n",
       "      <td>R</td>\n",
       "      <td>139 min</td>\n",
       "      <td>action adventure comedy</td>\n",
       "      <td>8</td>\n",
       "      <td>\\n81        \\n        Metascore\\n</td>\n",
       "      <td>\\nA middle-aged Chinese immigrant is swept up ...</td>\n",
       "      <td>dankwan</td>\n",
       "      <td>danielscheinert</td>\n",
       "      <td>michelleyeoh</td>\n",
       "      <td>stephaniehsu</td>\n",
       "      <td>jamieleecurtis</td>\n",
       "      <td>dankwan danielscheinert michelleyeoh stephanie...</td>\n",
       "      <td>middleaged chinese immigrant swept insane adve...</td>\n",
       "    </tr>\n",
       "    <tr>\n",
       "      <th>4</th>\n",
       "      <td>M3GAN</td>\n",
       "      <td>5</td>\n",
       "      <td>-2022</td>\n",
       "      <td>PG-13</td>\n",
       "      <td>102 min</td>\n",
       "      <td>horror scifi thriller</td>\n",
       "      <td>6.4</td>\n",
       "      <td>\\n72        \\n        Metascore\\n</td>\n",
       "      <td>\\nA robotics engineer at a toy company builds ...</td>\n",
       "      <td>gerardjohnstone</td>\n",
       "      <td>allisonwilliams</td>\n",
       "      <td>violetmcgraw</td>\n",
       "      <td>ronnychieng</td>\n",
       "      <td>amiedonald</td>\n",
       "      <td>gerardjohnstone allisonwilliams violetmcgraw r...</td>\n",
       "      <td>robotics engineer toy company builds lifelike ...</td>\n",
       "    </tr>\n",
       "  </tbody>\n",
       "</table>\n",
       "</div>"
      ],
      "text/plain": [
       "                               Title rank        Year certificate     Time  \\\n",
       "0           Avatar: The Way of Water    1       -2022       PG-13  192 min   \n",
       "1                           The Menu    2       -2022           R  107 min   \n",
       "2                            Babylon    3  (I) (2022)           R  189 min   \n",
       "3  Everything Everywhere All at Once    4       -2022           R  139 min   \n",
       "4                              M3GAN    5       -2022       PG-13  102 min   \n",
       "\n",
       "                      genre inlineblock  \\\n",
       "0  action adventure fantasy         7.8   \n",
       "1           horror thriller         7.2   \n",
       "2      comedy drama history         7.5   \n",
       "3   action adventure comedy           8   \n",
       "4     horror scifi thriller         6.4   \n",
       "\n",
       "                                           Score  \\\n",
       "0  \\n67        \\n        Metascore\\n               \n",
       "1  \\n71        \\n        Metascore\\n               \n",
       "2  \\n60        \\n        Metascore\\n               \n",
       "3  \\n81        \\n        Metascore\\n               \n",
       "4  \\n72        \\n        Metascore\\n               \n",
       "\n",
       "                                           textmuted         director  \\\n",
       "0  \\nJake Sully lives with his newfound family fo...     jamescameron   \n",
       "1  \\nA young couple travels to a remote island to...        markmylod   \n",
       "2  \\nA tale of outsized ambition and outrageous e...   damienchazelle   \n",
       "3  \\nA middle-aged Chinese immigrant is swept up ...          dankwan   \n",
       "4  \\nA robotics engineer at a toy company builds ...  gerardjohnstone   \n",
       "\n",
       "            actor1         actor2           actor3          actor4  \\\n",
       "0   samworthington     zoesaldana  sigourneyweaver     stephenlang   \n",
       "1     ralphfiennes  anyataylorjoy    nicholashoult        hongchau   \n",
       "2         bradpitt   margotrobbie        jeansmart     oliviawilde   \n",
       "3  danielscheinert   michelleyeoh     stephaniehsu  jamieleecurtis   \n",
       "4  allisonwilliams   violetmcgraw      ronnychieng      amiedonald   \n",
       "\n",
       "                                                cast  \\\n",
       "0  jamescameron samworthington zoesaldana sigourn...   \n",
       "1  markmylod ralphfiennes anyataylorjoy nicholash...   \n",
       "2  damienchazelle bradpitt margotrobbie jeansmart...   \n",
       "3  dankwan danielscheinert michelleyeoh stephanie...   \n",
       "4  gerardjohnstone allisonwilliams violetmcgraw r...   \n",
       "\n",
       "                                             context  \n",
       "0  jake sully lives newfound family formed extras...  \n",
       "1  young couple travels remote island eat exclusi...  \n",
       "2  tale outsized ambition outrageous excess trace...  \n",
       "3  middleaged chinese immigrant swept insane adve...  \n",
       "4  robotics engineer toy company builds lifelike ...  "
      ]
     },
     "execution_count": 158,
     "metadata": {},
     "output_type": "execute_result"
    }
   ],
   "source": [
    "df.head()"
   ]
  },
  {
   "cell_type": "code",
   "execution_count": 166,
   "metadata": {},
   "outputs": [
    {
     "data": {
      "text/plain": [
       "' tomcruse meganfox tomcruse meganfox'"
      ]
     },
     "execution_count": 166,
     "metadata": {},
     "output_type": "execute_result"
    }
   ],
   "source": []
  },
  {
   "cell_type": "code",
   "execution_count": 183,
   "metadata": {},
   "outputs": [],
   "source": [
    "cols = ['genre', 'cast', 'context']\n",
    "WEGIHTS = {\n",
    "    'genre': 1,\n",
    "    'cast': 1,\n",
    "    'context': 1,\n",
    "}\n",
    "\n",
    "df['combined'] = \"\"\n",
    "\n",
    "for col in cols:\n",
    "    df['combined'] += (\" \" + df[col]) * WEGIHTS[col]"
   ]
  },
  {
   "cell_type": "code",
   "execution_count": 184,
   "metadata": {},
   "outputs": [],
   "source": [
    "titles = df.Title.values.tolist()\n",
    "content = df.combined.values.tolist()"
   ]
  },
  {
   "attachments": {},
   "cell_type": "markdown",
   "metadata": {},
   "source": [
    "# **Vectorizing**"
   ]
  },
  {
   "cell_type": "code",
   "execution_count": 185,
   "metadata": {},
   "outputs": [],
   "source": [
    "MAX_FEATURES = None"
   ]
  },
  {
   "cell_type": "code",
   "execution_count": 186,
   "metadata": {},
   "outputs": [],
   "source": [
    "from sklearn.feature_extraction.text import CountVectorizer, TfidfVectorizer"
   ]
  },
  {
   "cell_type": "code",
   "execution_count": 187,
   "metadata": {},
   "outputs": [],
   "source": [
    "vectorizers = {}"
   ]
  },
  {
   "cell_type": "code",
   "execution_count": 212,
   "metadata": {},
   "outputs": [],
   "source": [
    "# CountVectorizer\n",
    "vectorizers['bow'] = CountVectorizer(\n",
    "    lowercase=True,\n",
    "    # stop_words='english',\t# removing irrelevant common words\n",
    "    max_features=MAX_FEATURES,\t\t# avoiding less frequent words\n",
    "    binary=False,\n",
    "    ngram_range=(1, 1),     # N-gram: (min, max)\n",
    ")\n",
    "# N-gram\n",
    "vectorizers['ngram'] = CountVectorizer(\n",
    "    lowercase=True,\n",
    "    # stop_words='english',\t# removing irrelevant common words\n",
    "    max_features=MAX_FEATURES,\t\t# avoiding less frequent words\n",
    "    binary=False,\n",
    "    ngram_range=(2, 3),     # N-gram: (min, max)\n",
    ")\n",
    "# TfidfVectorizer\n",
    "vectorizers['tfidf'] = TfidfVectorizer(\n",
    "    max_features = MAX_FEATURES,\n",
    ")"
   ]
  },
  {
   "cell_type": "code",
   "execution_count": 213,
   "metadata": {},
   "outputs": [
    {
     "name": "stdout",
     "output_type": "stream",
     "text": [
      "bow (10033, 61253)\n",
      "tfidf (10033, 61253)\n",
      "ngram (10033, 349214)\n"
     ]
    }
   ],
   "source": [
    "from sklearn.metrics.pairwise import cosine_similarity\n",
    "\n",
    "sims = {}\n",
    "for key, vectorizer in vectorizers.items():\n",
    "    print(key, end=\" \")\n",
    "    transformed = vectorizer.fit_transform(content)\n",
    "    print(transformed.shape)\n",
    "    sims[key] = cosine_similarity(transformed)"
   ]
  },
  {
   "attachments": {},
   "cell_type": "markdown",
   "metadata": {},
   "source": [
    "# **Testing**"
   ]
  },
  {
   "attachments": {},
   "cell_type": "markdown",
   "metadata": {},
   "source": [
    "### Movie From Movie"
   ]
  },
  {
   "cell_type": "code",
   "execution_count": 214,
   "metadata": {},
   "outputs": [
    {
     "data": {
      "text/plain": [
       "\"Adam Heatherly's Frankenstein!     Limit     Coffee with Kadhal     Maia     Bem-vinda a Quixeramobim     The Takeover     F*ck Love Too     Cirkus Maximum     TÍU     Parahuna 2     Deadly Parasite     \\ufeffGila Gusti     Unlocked     Dear Friend     Contigo Voy     By Deception     Unplayed Lullaby     Leon - Glaub nicht alles was du siehst     Three of Us     Love Suddenly     Chiqui     69 Parts     Spare Keys     Selfish     #DoYouThinkIAmSexy     Saturday Night     Greenhouse     The Consultant     Note Bandi     Habangbuhay     Scorched Earth     Moonfall     No Better Love     Hollow's Ridge     Bones and All     Amor y matemáticas     Bajre Da Sitta     We Haven't Lost Our Way     Trip to Datana     Goodbye     Jikirag     The Nannies     Hometown     Sosefina     Aftersun     The Evil John Krackers     Kazi     Rowdy Boys     Batomen     Women of Theatre, New York     The Obscured     Varalaru Mukkiyam     Deep Astronomy and the Romantic Sciences     Vikram     Revealer     Melchior the Apothecary     Charon     Chhanna Bhann Ke Bna Laye Chhaine     L'établi     Shockwaves     Rose Tinted     Saint Omer     Poor Rich Family, When Luck Run$ Out     Chakkar     For My Country     Look Both Ways     The Blue Hole     Paul Keller - Stille im Schrei     Laced     Anak Rimau the Movie     The Cannabis Diary     Don't Leave     Poison Candy     Kasthuri Mahal     Best Friends     Slice!     The Apology     18 Pages     Coulisses     The Invisible Thread     Class of '85     Neposlushnik 2     Wolves     A Couple     The Novelist's Film     The Daily Object Show: The Movie     Conviction     Rajahmundry Rose Milk     Steps: What the Future Holds - Live at the O2 Arena     Babul Ki Galiyan     Bring Him Back Dead     Evrika: Mi mou tous kyklous taratte     Cirkus     Young Heroes of Chaotic Times     Crescent Night     Fairmount     Jurassic World: Dominion     Bite of a Mango     Winter Fireflies     Black Mail\""
      ]
     },
     "execution_count": 214,
     "metadata": {},
     "output_type": "execute_result"
    }
   ],
   "source": [
    "import random\n",
    "\n",
    "\"     \".join(random.choices((titles), k=100))"
   ]
  },
  {
   "cell_type": "code",
   "execution_count": 220,
   "metadata": {},
   "outputs": [
    {
     "name": "stdout",
     "output_type": "stream",
     "text": [
      "Black Panther: Wakanda Forever\n"
     ]
    }
   ],
   "source": [
    "# title = random.choice(titles)\n",
    "title = 'Black Panther: Wakanda Forever'\n",
    "recs = 10\n",
    "print(title)\n",
    "\n",
    "# i = data.Title[data.Title == title].index[0]\n",
    "i = titles.index(title)\n",
    "\n",
    "recs_titles_count = [i[0] for i in sorted(enumerate(sims['bow'][i]), key=lambda x: x[1], reverse=True)][:recs+1]\n",
    "recs_titles_gram = [i[0] for i in sorted(enumerate(sims['ngram'][i]), key=lambda x: x[1], reverse=True)][:recs+1]\n",
    "recs_titles_tfidf = [i[0] for i in sorted(enumerate(sims['tfidf'][i]), key=lambda x: x[1], reverse=True)][:recs+1]"
   ]
  },
  {
   "cell_type": "code",
   "execution_count": 221,
   "metadata": {},
   "outputs": [
    {
     "data": {
      "text/html": [
       "<div>\n",
       "<style scoped>\n",
       "    .dataframe tbody tr th:only-of-type {\n",
       "        vertical-align: middle;\n",
       "    }\n",
       "\n",
       "    .dataframe tbody tr th {\n",
       "        vertical-align: top;\n",
       "    }\n",
       "\n",
       "    .dataframe thead th {\n",
       "        text-align: right;\n",
       "    }\n",
       "</style>\n",
       "<table border=\"1\" class=\"dataframe\">\n",
       "  <thead>\n",
       "    <tr style=\"text-align: right;\">\n",
       "      <th></th>\n",
       "      <th>Title</th>\n",
       "      <th>genre</th>\n",
       "    </tr>\n",
       "  </thead>\n",
       "  <tbody>\n",
       "    <tr>\n",
       "      <th>28</th>\n",
       "      <td>Black Panther: Wakanda Forever</td>\n",
       "      <td>action adventure drama</td>\n",
       "    </tr>\n",
       "    <tr>\n",
       "      <th>7851</th>\n",
       "      <td>Wolfoo the Adventurer 2</td>\n",
       "      <td>action adventure drama</td>\n",
       "    </tr>\n",
       "    <tr>\n",
       "      <th>2127</th>\n",
       "      <td>Satria Dewa: Gatotkaca</td>\n",
       "      <td>action adventure drama</td>\n",
       "    </tr>\n",
       "    <tr>\n",
       "      <th>6385</th>\n",
       "      <td>Dear Death</td>\n",
       "      <td>drama</td>\n",
       "    </tr>\n",
       "    <tr>\n",
       "      <th>4715</th>\n",
       "      <td>#Homecoming</td>\n",
       "      <td></td>\n",
       "    </tr>\n",
       "    <tr>\n",
       "      <th>7698</th>\n",
       "      <td>Escape the City</td>\n",
       "      <td>action adventure drama</td>\n",
       "    </tr>\n",
       "    <tr>\n",
       "      <th>7647</th>\n",
       "      <td>Singh vs Kaur 2</td>\n",
       "      <td>action adventure drama</td>\n",
       "    </tr>\n",
       "    <tr>\n",
       "      <th>751</th>\n",
       "      <td>Bubble</td>\n",
       "      <td>animation action adventure</td>\n",
       "    </tr>\n",
       "    <tr>\n",
       "      <th>6771</th>\n",
       "      <td>Promise Chronicles - Manifestation</td>\n",
       "      <td>action adventure drama</td>\n",
       "    </tr>\n",
       "    <tr>\n",
       "      <th>5601</th>\n",
       "      <td>Cybernetic Genesis - La guerra tra i due mondi</td>\n",
       "      <td>action fantasy scifi</td>\n",
       "    </tr>\n",
       "    <tr>\n",
       "      <th>27</th>\n",
       "      <td>RRR</td>\n",
       "      <td>action adventure drama</td>\n",
       "    </tr>\n",
       "    <tr>\n",
       "      <th>28</th>\n",
       "      <td>Black Panther: Wakanda Forever</td>\n",
       "      <td>action adventure drama</td>\n",
       "    </tr>\n",
       "    <tr>\n",
       "      <th>7647</th>\n",
       "      <td>Singh vs Kaur 2</td>\n",
       "      <td>action adventure drama</td>\n",
       "    </tr>\n",
       "    <tr>\n",
       "      <th>7851</th>\n",
       "      <td>Wolfoo the Adventurer 2</td>\n",
       "      <td>action adventure drama</td>\n",
       "    </tr>\n",
       "    <tr>\n",
       "      <th>42</th>\n",
       "      <td>The Northman</td>\n",
       "      <td>action adventure drama</td>\n",
       "    </tr>\n",
       "    <tr>\n",
       "      <th>7698</th>\n",
       "      <td>Escape the City</td>\n",
       "      <td>action adventure drama</td>\n",
       "    </tr>\n",
       "    <tr>\n",
       "      <th>27</th>\n",
       "      <td>RRR</td>\n",
       "      <td>action adventure drama</td>\n",
       "    </tr>\n",
       "    <tr>\n",
       "      <th>7948</th>\n",
       "      <td>The Scheme of Things</td>\n",
       "      <td>action adventure drama</td>\n",
       "    </tr>\n",
       "    <tr>\n",
       "      <th>1759</th>\n",
       "      <td>Mat Kilau</td>\n",
       "      <td>action adventure drama</td>\n",
       "    </tr>\n",
       "    <tr>\n",
       "      <th>3231</th>\n",
       "      <td>The Hidden Fox</td>\n",
       "      <td>action adventure drama</td>\n",
       "    </tr>\n",
       "    <tr>\n",
       "      <th>93</th>\n",
       "      <td>Prey</td>\n",
       "      <td>action adventure drama</td>\n",
       "    </tr>\n",
       "    <tr>\n",
       "      <th>7064</th>\n",
       "      <td>Syahadan</td>\n",
       "      <td>action adventure drama</td>\n",
       "    </tr>\n",
       "    <tr>\n",
       "      <th>28</th>\n",
       "      <td>Black Panther: Wakanda Forever</td>\n",
       "      <td>action adventure drama</td>\n",
       "    </tr>\n",
       "    <tr>\n",
       "      <th>5601</th>\n",
       "      <td>Cybernetic Genesis - La guerra tra i due mondi</td>\n",
       "      <td>action fantasy scifi</td>\n",
       "    </tr>\n",
       "    <tr>\n",
       "      <th>6385</th>\n",
       "      <td>Dear Death</td>\n",
       "      <td>drama</td>\n",
       "    </tr>\n",
       "    <tr>\n",
       "      <th>4289</th>\n",
       "      <td>The Other Widow</td>\n",
       "      <td>drama</td>\n",
       "    </tr>\n",
       "    <tr>\n",
       "      <th>8930</th>\n",
       "      <td>Eiga Yuru Camp</td>\n",
       "      <td>adventure</td>\n",
       "    </tr>\n",
       "    <tr>\n",
       "      <th>9962</th>\n",
       "      <td>The Treasure of Las Clevs</td>\n",
       "      <td>adventure</td>\n",
       "    </tr>\n",
       "    <tr>\n",
       "      <th>7851</th>\n",
       "      <td>Wolfoo the Adventurer 2</td>\n",
       "      <td>action adventure drama</td>\n",
       "    </tr>\n",
       "    <tr>\n",
       "      <th>9990</th>\n",
       "      <td>St. George the Iron Soldier</td>\n",
       "      <td>action adventure</td>\n",
       "    </tr>\n",
       "    <tr>\n",
       "      <th>741</th>\n",
       "      <td>The Commando</td>\n",
       "      <td>action thriller</td>\n",
       "    </tr>\n",
       "    <tr>\n",
       "      <th>1033</th>\n",
       "      <td>The Monkey King: The Legend Begins</td>\n",
       "      <td>fantasy</td>\n",
       "    </tr>\n",
       "    <tr>\n",
       "      <th>2127</th>\n",
       "      <td>Satria Dewa: Gatotkaca</td>\n",
       "      <td>action adventure drama</td>\n",
       "    </tr>\n",
       "  </tbody>\n",
       "</table>\n",
       "</div>"
      ],
      "text/plain": [
       "                                               Title  \\\n",
       "28                    Black Panther: Wakanda Forever   \n",
       "7851                         Wolfoo the Adventurer 2   \n",
       "2127                          Satria Dewa: Gatotkaca   \n",
       "6385                                      Dear Death   \n",
       "4715                                     #Homecoming   \n",
       "7698                                 Escape the City   \n",
       "7647                                 Singh vs Kaur 2   \n",
       "751                                           Bubble   \n",
       "6771              Promise Chronicles - Manifestation   \n",
       "5601  Cybernetic Genesis - La guerra tra i due mondi   \n",
       "27                                               RRR   \n",
       "28                    Black Panther: Wakanda Forever   \n",
       "7647                                 Singh vs Kaur 2   \n",
       "7851                         Wolfoo the Adventurer 2   \n",
       "42                                      The Northman   \n",
       "7698                                 Escape the City   \n",
       "27                                               RRR   \n",
       "7948                            The Scheme of Things   \n",
       "1759                                       Mat Kilau   \n",
       "3231                                  The Hidden Fox   \n",
       "93                                              Prey   \n",
       "7064                                        Syahadan   \n",
       "28                    Black Panther: Wakanda Forever   \n",
       "5601  Cybernetic Genesis - La guerra tra i due mondi   \n",
       "6385                                      Dear Death   \n",
       "4289                                 The Other Widow   \n",
       "8930                                  Eiga Yuru Camp   \n",
       "9962                       The Treasure of Las Clevs   \n",
       "7851                         Wolfoo the Adventurer 2   \n",
       "9990                     St. George the Iron Soldier   \n",
       "741                                     The Commando   \n",
       "1033              The Monkey King: The Legend Begins   \n",
       "2127                          Satria Dewa: Gatotkaca   \n",
       "\n",
       "                           genre  \n",
       "28        action adventure drama  \n",
       "7851      action adventure drama  \n",
       "2127      action adventure drama  \n",
       "6385                       drama  \n",
       "4715                              \n",
       "7698      action adventure drama  \n",
       "7647      action adventure drama  \n",
       "751   animation action adventure  \n",
       "6771      action adventure drama  \n",
       "5601        action fantasy scifi  \n",
       "27        action adventure drama  \n",
       "28        action adventure drama  \n",
       "7647      action adventure drama  \n",
       "7851      action adventure drama  \n",
       "42        action adventure drama  \n",
       "7698      action adventure drama  \n",
       "27        action adventure drama  \n",
       "7948      action adventure drama  \n",
       "1759      action adventure drama  \n",
       "3231      action adventure drama  \n",
       "93        action adventure drama  \n",
       "7064      action adventure drama  \n",
       "28        action adventure drama  \n",
       "5601        action fantasy scifi  \n",
       "6385                       drama  \n",
       "4289                       drama  \n",
       "8930                   adventure  \n",
       "9962                   adventure  \n",
       "7851      action adventure drama  \n",
       "9990            action adventure  \n",
       "741              action thriller  \n",
       "1033                     fantasy  \n",
       "2127      action adventure drama  "
      ]
     },
     "execution_count": 221,
     "metadata": {},
     "output_type": "execute_result"
    }
   ],
   "source": [
    "df1 = df.iloc[recs_titles_count][['Title', 'genre']]\n",
    "df2 = df.iloc[recs_titles_gram][['Title', 'genre']]\n",
    "df3 = df.iloc[recs_titles_tfidf][['Title', 'genre']]\n",
    "pd.concat([df1, df2, df3])"
   ]
  },
  {
   "attachments": {},
   "cell_type": "markdown",
   "metadata": {},
   "source": [
    "# **Saving**"
   ]
  },
  {
   "cell_type": "code",
   "execution_count": 266,
   "metadata": {},
   "outputs": [],
   "source": [
    "import json"
   ]
  },
  {
   "cell_type": "code",
   "execution_count": 267,
   "metadata": {},
   "outputs": [
    {
     "data": {
      "text/plain": [
       "dict_keys(['imgs', 'infos', 'recs'])"
      ]
     },
     "execution_count": 267,
     "metadata": {},
     "output_type": "execute_result"
    }
   ],
   "source": [
    "with open(\"data.json\", 'rb') as f:\n",
    "    books = json.load(f)\n",
    "\n",
    "with open(\"movies.json\", 'rb') as f:\n",
    "    movies = json.load(f)\n",
    "\n",
    "books.keys()"
   ]
  },
  {
   "cell_type": "code",
   "execution_count": 268,
   "metadata": {},
   "outputs": [
    {
     "data": {
      "text/plain": [
       "{'Genre': 'Action Adventure Fantasy',\n",
       " 'Director': 'James Cameron',\n",
       " 'Cast': 'Sam Worthington, Zoe Saldana, Sigourney Weaver, Stephen Lang',\n",
       " 'Context': \"Jake Sully lives with his newfound family formed on the extrasolar moon Pandora. Once a familiar threat returns to finish what was previously started, Jake must work with Neytiri and the army of the Na'vi race to protect their home.\"}"
      ]
     },
     "execution_count": 268,
     "metadata": {},
     "output_type": "execute_result"
    }
   ],
   "source": [
    "books['infos'][0]"
   ]
  },
  {
   "cell_type": "code",
   "execution_count": 222,
   "metadata": {},
   "outputs": [],
   "source": [
    "orig = pd.read_csv(\"./2022 Movies Cleaned.csv\")\n",
    "orig.drop_duplicates(inplace=True)\n",
    "orig.fillna(\"\", inplace=True)\n",
    "orig = orig.astype(str)"
   ]
  },
  {
   "cell_type": "code",
   "execution_count": 223,
   "metadata": {},
   "outputs": [],
   "source": [
    "orig.genre = orig.genre.apply(genres_clean)"
   ]
  },
  {
   "cell_type": "code",
   "execution_count": 224,
   "metadata": {},
   "outputs": [],
   "source": [
    "orig.textmuted = orig.textmuted.apply(lambda x: x.strip())"
   ]
  },
  {
   "cell_type": "code",
   "execution_count": 225,
   "metadata": {},
   "outputs": [],
   "source": [
    "orig['Actors'] = orig['actor1'] + \"_\" + orig['actor2'] + \"_\" + orig['actor3'] + \"_\" + orig['actor4']"
   ]
  },
  {
   "cell_type": "code",
   "execution_count": 226,
   "metadata": {},
   "outputs": [],
   "source": [
    "orig = orig[['genre', 'director', 'Actors', 'textmuted']]"
   ]
  },
  {
   "cell_type": "code",
   "execution_count": 227,
   "metadata": {},
   "outputs": [
    {
     "data": {
      "text/html": [
       "<div>\n",
       "<style scoped>\n",
       "    .dataframe tbody tr th:only-of-type {\n",
       "        vertical-align: middle;\n",
       "    }\n",
       "\n",
       "    .dataframe tbody tr th {\n",
       "        vertical-align: top;\n",
       "    }\n",
       "\n",
       "    .dataframe thead th {\n",
       "        text-align: right;\n",
       "    }\n",
       "</style>\n",
       "<table border=\"1\" class=\"dataframe\">\n",
       "  <thead>\n",
       "    <tr style=\"text-align: right;\">\n",
       "      <th></th>\n",
       "      <th>genre</th>\n",
       "      <th>director</th>\n",
       "      <th>Actors</th>\n",
       "      <th>textmuted</th>\n",
       "    </tr>\n",
       "  </thead>\n",
       "  <tbody>\n",
       "    <tr>\n",
       "      <th>0</th>\n",
       "      <td>action adventure fantasy</td>\n",
       "      <td>James Cameron</td>\n",
       "      <td>Sam Worthington_Zoe Saldana_Sigourney Weaver_S...</td>\n",
       "      <td>Jake Sully lives with his newfound family form...</td>\n",
       "    </tr>\n",
       "    <tr>\n",
       "      <th>1</th>\n",
       "      <td>horror thriller</td>\n",
       "      <td>Mark Mylod</td>\n",
       "      <td>Ralph Fiennes_Anya Taylor-Joy_Nicholas Hoult_H...</td>\n",
       "      <td>A young couple travels to a remote island to e...</td>\n",
       "    </tr>\n",
       "    <tr>\n",
       "      <th>2</th>\n",
       "      <td>comedy drama history</td>\n",
       "      <td>Damien Chazelle</td>\n",
       "      <td>Brad Pitt_Margot Robbie_Jean Smart_Olivia Wilde</td>\n",
       "      <td>A tale of outsized ambition and outrageous exc...</td>\n",
       "    </tr>\n",
       "    <tr>\n",
       "      <th>3</th>\n",
       "      <td>action adventure comedy</td>\n",
       "      <td>Dan Kwan</td>\n",
       "      <td>Daniel Scheinert_Michelle Yeoh_Stephanie Hsu_J...</td>\n",
       "      <td>A middle-aged Chinese immigrant is swept up in...</td>\n",
       "    </tr>\n",
       "    <tr>\n",
       "      <th>4</th>\n",
       "      <td>horror scifi thriller</td>\n",
       "      <td>Gerard Johnstone</td>\n",
       "      <td>Allison Williams_Violet McGraw_Ronny Chieng_Am...</td>\n",
       "      <td>A robotics engineer at a toy company builds a ...</td>\n",
       "    </tr>\n",
       "  </tbody>\n",
       "</table>\n",
       "</div>"
      ],
      "text/plain": [
       "                      genre          director  \\\n",
       "0  action adventure fantasy     James Cameron   \n",
       "1           horror thriller        Mark Mylod   \n",
       "2      comedy drama history   Damien Chazelle   \n",
       "3   action adventure comedy          Dan Kwan   \n",
       "4     horror scifi thriller  Gerard Johnstone   \n",
       "\n",
       "                                              Actors  \\\n",
       "0  Sam Worthington_Zoe Saldana_Sigourney Weaver_S...   \n",
       "1  Ralph Fiennes_Anya Taylor-Joy_Nicholas Hoult_H...   \n",
       "2    Brad Pitt_Margot Robbie_Jean Smart_Olivia Wilde   \n",
       "3  Daniel Scheinert_Michelle Yeoh_Stephanie Hsu_J...   \n",
       "4  Allison Williams_Violet McGraw_Ronny Chieng_Am...   \n",
       "\n",
       "                                           textmuted  \n",
       "0  Jake Sully lives with his newfound family form...  \n",
       "1  A young couple travels to a remote island to e...  \n",
       "2  A tale of outsized ambition and outrageous exc...  \n",
       "3  A middle-aged Chinese immigrant is swept up in...  \n",
       "4  A robotics engineer at a toy company builds a ...  "
      ]
     },
     "execution_count": 227,
     "metadata": {},
     "output_type": "execute_result"
    }
   ],
   "source": [
    "orig.head()"
   ]
  },
  {
   "cell_type": "code",
   "execution_count": 228,
   "metadata": {},
   "outputs": [],
   "source": [
    "infos = []\n",
    "for row in orig.values:\n",
    "    genre, director, actor, context = row\n",
    "\n",
    "    genre = \" \".join([i.capitalize() for i in genre.split()])\n",
    "    actor = actor.replace(\"_\", \", \")\n",
    "    \n",
    "    context = \" \".join(context.split())\n",
    "\n",
    "    infos.append({\n",
    "        \"Genre\": genre,\n",
    "        \"Director\": director,\n",
    "        \"Cast\": actor,\n",
    "        \"Context\": context,\n",
    "    })"
   ]
  },
  {
   "cell_type": "code",
   "execution_count": 229,
   "metadata": {},
   "outputs": [],
   "source": [
    "from tqdm import tqdm"
   ]
  },
  {
   "cell_type": "code",
   "execution_count": 230,
   "metadata": {},
   "outputs": [],
   "source": [
    "sim = sims['tfidf']"
   ]
  },
  {
   "cell_type": "code",
   "execution_count": 231,
   "metadata": {},
   "outputs": [],
   "source": [
    "sim = (sim*100).round(2)"
   ]
  },
  {
   "cell_type": "code",
   "execution_count": 239,
   "metadata": {},
   "outputs": [
    {
     "name": "stderr",
     "output_type": "stream",
     "text": [
      "100%|██████████| 10033/10033 [01:00<00:00, 165.66it/s]\n"
     ]
    }
   ],
   "source": [
    "recs = []\n",
    "for row in tqdm(sim):\n",
    "    rec = sorted(list(enumerate(row)), key=lambda x: x[1], reverse=True)[1:25]\n",
    "    recs.append(rec)"
   ]
  },
  {
   "cell_type": "code",
   "execution_count": 240,
   "metadata": {},
   "outputs": [
    {
     "data": {
      "text/plain": [
       "(10033, 24, 2)"
      ]
     },
     "execution_count": 240,
     "metadata": {},
     "output_type": "execute_result"
    }
   ],
   "source": [
    "import numpy as np\n",
    "np.array(recs).shape"
   ]
  },
  {
   "cell_type": "code",
   "execution_count": 241,
   "metadata": {},
   "outputs": [],
   "source": [
    "movies_2022 = {}\n",
    "movies_2022['titles'] = titles\n",
    "movies_2022['imgs'] = None\n",
    "movies_2022['infos'] = infos\n",
    "movies_2022['recs'] = recs"
   ]
  },
  {
   "cell_type": "code",
   "execution_count": 242,
   "metadata": {},
   "outputs": [],
   "source": [
    "with open(\"data.json\", 'w') as f:\n",
    "    json.dump(movies_2022, f)"
   ]
  },
  {
   "cell_type": "code",
   "execution_count": 237,
   "metadata": {},
   "outputs": [],
   "source": [
    "with open(\"titles.json\", 'w') as f:\n",
    "    json.dump(titles, f)"
   ]
  },
  {
   "cell_type": "code",
   "execution_count": null,
   "metadata": {},
   "outputs": [],
   "source": []
  },
  {
   "cell_type": "code",
   "execution_count": null,
   "metadata": {},
   "outputs": [],
   "source": []
  }
 ],
 "metadata": {
  "kernelspec": {
   "display_name": "Python 3",
   "language": "python",
   "name": "python3"
  },
  "language_info": {
   "codemirror_mode": {
    "name": "ipython",
    "version": 3
   },
   "file_extension": ".py",
   "mimetype": "text/x-python",
   "name": "python",
   "nbconvert_exporter": "python",
   "pygments_lexer": "ipython3",
   "version": "3.10.9"
  },
  "orig_nbformat": 4,
  "vscode": {
   "interpreter": {
    "hash": "2407659e7e7968990f76a627cce7446618739ede0dc4bbd0e9edff98f921e070"
   }
  }
 },
 "nbformat": 4,
 "nbformat_minor": 2
}
